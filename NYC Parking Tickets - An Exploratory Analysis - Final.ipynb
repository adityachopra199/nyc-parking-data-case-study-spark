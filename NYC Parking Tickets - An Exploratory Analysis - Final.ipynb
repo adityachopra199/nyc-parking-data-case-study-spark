{
 "cells": [
  {
   "cell_type": "code",
   "execution_count": 1,
   "metadata": {},
   "outputs": [],
   "source": [
    "#Importing sparkSession\n",
    "from pyspark.sql import SparkSession\n",
    "from pyspark.sql.functions import *\n",
    "from pyspark.sql.window import Window\n",
    "from pyspark.sql import DataFrame\n",
    "\n",
    "#Importing graphical libraries for plots\n",
    "import seaborn as sns\n",
    "import matplotlib.pyplot as plt"
   ]
  },
  {
   "cell_type": "code",
   "execution_count": 2,
   "metadata": {},
   "outputs": [],
   "source": [
    "#Creating the SparkSession\n",
    "spark = SparkSession.builder.appName(\"NYC Parking Ticket Analysis\").getOrCreate()"
   ]
  },
  {
   "cell_type": "code",
   "execution_count": 3,
   "metadata": {},
   "outputs": [
    {
     "data": {
      "text/html": [
       "\n",
       "            <div>\n",
       "                <p><b>SparkSession - in-memory</b></p>\n",
       "                \n",
       "        <div>\n",
       "            <p><b>SparkContext</b></p>\n",
       "\n",
       "            <p><a href=\"http://ip-30-0-31-84.ec2.internal:4042\">Spark UI</a></p>\n",
       "\n",
       "            <dl>\n",
       "              <dt>Version</dt>\n",
       "                <dd><code>v2.4.0</code></dd>\n",
       "              <dt>Master</dt>\n",
       "                <dd><code>yarn</code></dd>\n",
       "              <dt>AppName</dt>\n",
       "                <dd><code>NYC Parking Ticket Analysis</code></dd>\n",
       "            </dl>\n",
       "        </div>\n",
       "        \n",
       "            </div>\n",
       "        "
      ],
      "text/plain": [
       "<pyspark.sql.session.SparkSession at 0x7f2eda92c198>"
      ]
     },
     "execution_count": 3,
     "metadata": {},
     "output_type": "execute_result"
    }
   ],
   "source": [
    "#Checking if sparkSession got created\n",
    "spark"
   ]
  },
  {
   "cell_type": "markdown",
   "metadata": {},
   "source": [
    "As we see, the spark session is has been created successfully with the required application name."
   ]
  },
  {
   "cell_type": "code",
   "execution_count": 4,
   "metadata": {
    "scrolled": false
   },
   "outputs": [],
   "source": [
    "# Reading data from the CSV file\n",
    "data = spark.read.format('csv').option(\"header\",\"true\").load(\"/common_folder/nyc_parking/Parking_Violations_Issued_-_Fiscal_Year_2017.csv\").cache()"
   ]
  },
  {
   "cell_type": "code",
   "execution_count": 5,
   "metadata": {},
   "outputs": [
    {
     "name": "stdout",
     "output_type": "stream",
     "text": [
      "+--------------+--------+------------------+----------+--------------+-----------------+------------+------------------+---------------+--------------+\n",
      "|Summons Number|Plate ID|Registration State|Issue Date|Violation Code|Vehicle Body Type|Vehicle Make|Violation Precinct|Issuer Precinct|Violation Time|\n",
      "+--------------+--------+------------------+----------+--------------+-----------------+------------+------------------+---------------+--------------+\n",
      "|    5092469481| GZH7067|                NY|2016-07-10|             7|             SUBN|       TOYOT|                 0|              0|         0143A|\n",
      "|    5092451658| GZH7067|                NY|2016-07-08|             7|             SUBN|       TOYOT|                 0|              0|         0400P|\n",
      "+--------------+--------+------------------+----------+--------------+-----------------+------------+------------------+---------------+--------------+\n",
      "only showing top 2 rows\n",
      "\n"
     ]
    }
   ],
   "source": [
    "#Let's check if the data read was correct. The header must be skipped\n",
    "data.show(2)"
   ]
  },
  {
   "cell_type": "code",
   "execution_count": 6,
   "metadata": {},
   "outputs": [
    {
     "data": {
      "text/plain": [
       "10803028"
      ]
     },
     "execution_count": 6,
     "metadata": {},
     "output_type": "execute_result"
    }
   ],
   "source": [
    "# The total number of rows in the given dataset\n",
    "data.count()"
   ]
  },
  {
   "cell_type": "code",
   "execution_count": 7,
   "metadata": {},
   "outputs": [
    {
     "name": "stdout",
     "output_type": "stream",
     "text": [
      "+--------------+--------------+\n",
      "|min_issue_date|max_issue_date|\n",
      "+--------------+--------------+\n",
      "|    1972-03-30|    2069-11-19|\n",
      "+--------------+--------------+\n",
      "\n"
     ]
    }
   ],
   "source": [
    "# Let's check the minimum & maximum issue_date in the given dataset\n",
    "data.agg(min('Issue Date').alias(\"min_issue_date\"), max('Issue Date').alias(\"max_issue_date\")).show()"
   ]
  },
  {
   "cell_type": "markdown",
   "metadata": {},
   "source": [
    "#### As we see above, there are a lot of unnecessary rows. Let's filter the data for the year 2017."
   ]
  },
  {
   "cell_type": "code",
   "execution_count": 8,
   "metadata": {},
   "outputs": [],
   "source": [
    "# Let's filter the rows for the year 2017\n",
    "data = data.filter(year(col('Issue Date')) == 2017)"
   ]
  },
  {
   "cell_type": "code",
   "execution_count": 9,
   "metadata": {
    "scrolled": true
   },
   "outputs": [
    {
     "name": "stdout",
     "output_type": "stream",
     "text": [
      "+--------------+--------+------------------+----------+--------------+-----------------+------------+------------------+---------------+--------------+\n",
      "|Summons Number|Plate ID|Registration State|Issue Date|Violation Code|Vehicle Body Type|Vehicle Make|Violation Precinct|Issuer Precinct|Violation Time|\n",
      "+--------------+--------+------------------+----------+--------------+-----------------+------------+------------------+---------------+--------------+\n",
      "|    8478629828| 66623ME|                NY|2017-06-14|            47|             REFG|       MITSU|                14|             14|         1120A|\n",
      "|    5096917368| FZD8593|                NY|2017-06-13|             7|             SUBN|       ME/BE|                 0|              0|         0852P|\n",
      "+--------------+--------+------------------+----------+--------------+-----------------+------------+------------------+---------------+--------------+\n",
      "only showing top 2 rows\n",
      "\n"
     ]
    }
   ],
   "source": [
    "#Let's check a few rows of the data\n",
    "data.show(2)"
   ]
  },
  {
   "cell_type": "markdown",
   "metadata": {},
   "source": [
    "#### It seems that the data has been filtered successfully"
   ]
  },
  {
   "cell_type": "code",
   "execution_count": 10,
   "metadata": {},
   "outputs": [
    {
     "data": {
      "text/plain": [
       "0"
      ]
     },
     "execution_count": 10,
     "metadata": {},
     "output_type": "execute_result"
    }
   ],
   "source": [
    "# Let's check the dataframe again with filter, this should return us 0 rows\n",
    "data.filter(year(col('Issue Date')) != 2017).count()"
   ]
  },
  {
   "cell_type": "markdown",
   "metadata": {},
   "source": [
    "##### As we get the count of rows which do not belong to the year 2017 to be 0. Therefore, the data has been successfully filtered for the year 2017"
   ]
  },
  {
   "cell_type": "markdown",
   "metadata": {},
   "source": [
    "## Examine the data\n"
   ]
  },
  {
   "cell_type": "markdown",
   "metadata": {},
   "source": [
    "### Find the total number of tickets for the year.\n"
   ]
  },
  {
   "cell_type": "code",
   "execution_count": 11,
   "metadata": {},
   "outputs": [
    {
     "data": {
      "text/plain": [
       "5431918"
      ]
     },
     "execution_count": 11,
     "metadata": {},
     "output_type": "execute_result"
    }
   ],
   "source": [
    "data.count()"
   ]
  },
  {
   "cell_type": "markdown",
   "metadata": {},
   "source": [
    "### Find out the number of unique states from where the cars that got parking tickets came"
   ]
  },
  {
   "cell_type": "code",
   "execution_count": 12,
   "metadata": {},
   "outputs": [
    {
     "data": {
      "text/plain": [
       "65"
      ]
     },
     "execution_count": 12,
     "metadata": {},
     "output_type": "execute_result"
    }
   ],
   "source": [
    "data.select(col('Registration State')).distinct().count()"
   ]
  },
  {
   "cell_type": "markdown",
   "metadata": {},
   "source": [
    "Therefore, the cars which got the tickets belong to 65 unique registration states"
   ]
  },
  {
   "cell_type": "markdown",
   "metadata": {},
   "source": [
    "### Let's see the unique registration states"
   ]
  },
  {
   "cell_type": "code",
   "execution_count": 13,
   "metadata": {
    "scrolled": true
   },
   "outputs": [
    {
     "name": "stdout",
     "output_type": "stream",
     "text": [
      "+------------------+\n",
      "|Registration State|\n",
      "+------------------+\n",
      "|                SC|\n",
      "|                AZ|\n",
      "|                NS|\n",
      "|                LA|\n",
      "|                MN|\n",
      "|                NJ|\n",
      "|                DC|\n",
      "|                OR|\n",
      "|                99|\n",
      "|                VA|\n",
      "|                RI|\n",
      "|                KY|\n",
      "|                WY|\n",
      "|                BC|\n",
      "|                NH|\n",
      "|                MI|\n",
      "|                NV|\n",
      "|                GV|\n",
      "|                QB|\n",
      "|                WI|\n",
      "|                ID|\n",
      "|                CA|\n",
      "|                CT|\n",
      "|                NE|\n",
      "|                MT|\n",
      "|                NC|\n",
      "|                VT|\n",
      "|                MD|\n",
      "|                DE|\n",
      "|                MO|\n",
      "|                IL|\n",
      "|                ME|\n",
      "|                MB|\n",
      "|                WA|\n",
      "|                ND|\n",
      "|                MS|\n",
      "|                AL|\n",
      "|                IN|\n",
      "|                OH|\n",
      "|                TN|\n",
      "|                IA|\n",
      "|                NM|\n",
      "|                PA|\n",
      "|                SD|\n",
      "|                FO|\n",
      "|                NY|\n",
      "|                ON|\n",
      "|                SK|\n",
      "|                AB|\n",
      "|                PE|\n",
      "|                TX|\n",
      "|                WV|\n",
      "|                GA|\n",
      "|                MA|\n",
      "|                KS|\n",
      "|                FL|\n",
      "|                CO|\n",
      "|                AK|\n",
      "|                AR|\n",
      "|                NB|\n",
      "|                OK|\n",
      "|                PR|\n",
      "|                UT|\n",
      "|                DP|\n",
      "|                HI|\n",
      "+------------------+\n",
      "\n"
     ]
    }
   ],
   "source": [
    "data.select(col('Registration State')).distinct().show(100)"
   ]
  },
  {
   "cell_type": "markdown",
   "metadata": {},
   "source": [
    "As given in the assignment details, there is one incorrect state i.e. 99. Let's replace it with the state that occurs the most"
   ]
  },
  {
   "cell_type": "markdown",
   "metadata": {},
   "source": [
    "### Finding the state that occurs the most"
   ]
  },
  {
   "cell_type": "code",
   "execution_count": 14,
   "metadata": {},
   "outputs": [
    {
     "name": "stdout",
     "output_type": "stream",
     "text": [
      "+------------------+-------+\n",
      "|Registration State|  count|\n",
      "+------------------+-------+\n",
      "|                NY|4273951|\n",
      "|                NJ| 475825|\n",
      "|                PA| 140286|\n",
      "|                CT|  70403|\n",
      "+------------------+-------+\n",
      "only showing top 4 rows\n",
      "\n"
     ]
    }
   ],
   "source": [
    "data.groupby(\"Registration State\").count().sort('count',ascending = False).show(4)"
   ]
  },
  {
   "cell_type": "markdown",
   "metadata": {},
   "source": [
    "As we see above, NY is the most occuring registration state."
   ]
  },
  {
   "cell_type": "markdown",
   "metadata": {},
   "source": [
    "### Let's replace incorrect registration state '99' by 'NY'"
   ]
  },
  {
   "cell_type": "code",
   "execution_count": 15,
   "metadata": {},
   "outputs": [
    {
     "data": {
      "text/plain": [
       "16055"
      ]
     },
     "execution_count": 15,
     "metadata": {},
     "output_type": "execute_result"
    }
   ],
   "source": [
    "# Let's first check the number of records with '99' as the registration state\n",
    "data.filter(col(\"Registration State\") == '99').count()"
   ]
  },
  {
   "cell_type": "code",
   "execution_count": 16,
   "metadata": {},
   "outputs": [
    {
     "data": {
      "text/plain": [
       "4273951"
      ]
     },
     "execution_count": 16,
     "metadata": {},
     "output_type": "execute_result"
    }
   ],
   "source": [
    "# Let's check the number of records with 'NY' as the registration state\n",
    "data.filter(col(\"Registration State\") == 'NY').count()"
   ]
  },
  {
   "cell_type": "code",
   "execution_count": 17,
   "metadata": {},
   "outputs": [],
   "source": [
    "# Let's replace the incorrect registration state '99' by 'NY'\n",
    "data = data.withColumn(\"Registration State\",when(col(\"Registration State\") == '99',\"NY\").otherwise(col(\"Registration State\")))"
   ]
  },
  {
   "cell_type": "code",
   "execution_count": 18,
   "metadata": {},
   "outputs": [
    {
     "data": {
      "text/plain": [
       "0"
      ]
     },
     "execution_count": 18,
     "metadata": {},
     "output_type": "execute_result"
    }
   ],
   "source": [
    "# Check1 for the replacement i.e. the count where '99' is the value must be 0\n",
    "data.filter(col(\"Registration State\") == '99').count()"
   ]
  },
  {
   "cell_type": "code",
   "execution_count": 19,
   "metadata": {},
   "outputs": [
    {
     "data": {
      "text/plain": [
       "4290006"
      ]
     },
     "execution_count": 19,
     "metadata": {},
     "output_type": "execute_result"
    }
   ],
   "source": [
    "#Let's again check the number of records with 'NY' as the registration state, it must be increased by the count of rows where '99' was the value\n",
    "data.filter(col(\"Registration State\") == 'NY').count()"
   ]
  },
  {
   "cell_type": "code",
   "execution_count": 20,
   "metadata": {},
   "outputs": [
    {
     "data": {
      "text/plain": [
       "True"
      ]
     },
     "execution_count": 20,
     "metadata": {},
     "output_type": "execute_result"
    }
   ],
   "source": [
    "#Let's check the total comes out equal or not\n",
    "4290006 ==  4273951 + 16055"
   ]
  },
  {
   "cell_type": "markdown",
   "metadata": {},
   "source": [
    "Therefore, the value '99' in the column 'Registration State' has been successfully replaced"
   ]
  },
  {
   "cell_type": "markdown",
   "metadata": {},
   "source": [
    "### Let's find out the number of unique states again"
   ]
  },
  {
   "cell_type": "code",
   "execution_count": 21,
   "metadata": {},
   "outputs": [
    {
     "data": {
      "text/plain": [
       "64"
      ]
     },
     "execution_count": 21,
     "metadata": {},
     "output_type": "execute_result"
    }
   ],
   "source": [
    "data.select('Registration State').distinct().count()"
   ]
  },
  {
   "cell_type": "markdown",
   "metadata": {},
   "source": [
    "#### Therefore, the number of unique states now comes out to be 64"
   ]
  },
  {
   "cell_type": "markdown",
   "metadata": {},
   "source": [
    "## Aggregation Tasks"
   ]
  },
  {
   "cell_type": "markdown",
   "metadata": {},
   "source": [
    "### Finding the frequency of the top five violation codes."
   ]
  },
  {
   "cell_type": "code",
   "execution_count": 22,
   "metadata": {
    "scrolled": true
   },
   "outputs": [
    {
     "name": "stdout",
     "output_type": "stream",
     "text": [
      "+--------------+------+\n",
      "|Violation code| count|\n",
      "+--------------+------+\n",
      "|            21|768087|\n",
      "|            36|662765|\n",
      "|            38|542079|\n",
      "|            14|476664|\n",
      "|            20|319646|\n",
      "+--------------+------+\n",
      "only showing top 5 rows\n",
      "\n"
     ]
    }
   ],
   "source": [
    "violationCodeData = data.groupBy('Violation code').count().sort('count', ascending = False)\n",
    "violationCodeData.show(5)"
   ]
  },
  {
   "cell_type": "markdown",
   "metadata": {},
   "source": [
    "#### Therefore, the top 5 violation codes in the descending order of the count of issued tickets are 21, 36, 38, 14, 20"
   ]
  },
  {
   "cell_type": "code",
   "execution_count": 23,
   "metadata": {},
   "outputs": [
    {
     "data": {
      "text/plain": [
       "100"
      ]
     },
     "execution_count": 23,
     "metadata": {},
     "output_type": "execute_result"
    }
   ],
   "source": [
    "#Total number of Voilation codes\n",
    "violationCodeData.count()"
   ]
  },
  {
   "cell_type": "code",
   "execution_count": 24,
   "metadata": {},
   "outputs": [],
   "source": [
    "# Let's define a function to draw bar plots\n",
    "def barPlotOnColumns(x,y,data,order,size):\n",
    "    plt.figure(figsize = size)\n",
    "    sns.barplot(x = x, y = y, data = data, order=data[order])\n",
    "    plt.show()"
   ]
  },
  {
   "cell_type": "code",
   "execution_count": 25,
   "metadata": {},
   "outputs": [
    {
     "data": {
      "image/png": "[encoded data removed]",
      "text/plain": [
       "<Figure size 1080x504 with 1 Axes>"
      ]
     },
     "metadata": {},
     "output_type": "display_data"
    }
   ],
   "source": [
    "#Plotting the frequency of the violation codes (Top 10 violation codes)\n",
    "barPlotOnColumns('Violation code', 'count', violationCodeData.toPandas().head(40), 'Violation code', (15,7))"
   ]
  },
  {
   "cell_type": "markdown",
   "metadata": {},
   "source": [
    "### Finding top 5 'vehicle body type' which get the highest parking tickets"
   ]
  },
  {
   "cell_type": "code",
   "execution_count": 26,
   "metadata": {
    "scrolled": true
   },
   "outputs": [
    {
     "name": "stdout",
     "output_type": "stream",
     "text": [
      "+-----------------+-------+\n",
      "|Vehicle Body Type|  count|\n",
      "+-----------------+-------+\n",
      "|             SUBN|1883954|\n",
      "|             4DSD|1547312|\n",
      "|              VAN| 724029|\n",
      "|             DELV| 358984|\n",
      "|              SDN| 194197|\n",
      "+-----------------+-------+\n",
      "only showing top 5 rows\n",
      "\n"
     ]
    }
   ],
   "source": [
    "vehicleBodyTypeDf = data.groupBy(\"Vehicle Body Type\").count().sort('count', ascending = False)\n",
    "vehicleBodyTypeDf.show(5)"
   ]
  },
  {
   "cell_type": "code",
   "execution_count": 27,
   "metadata": {},
   "outputs": [
    {
     "data": {
      "image/png": "[encoded data removed]",
      "text/plain": [
       "<Figure size 1080x504 with 1 Axes>"
      ]
     },
     "metadata": {},
     "output_type": "display_data"
    }
   ],
   "source": [
    "#Plotting the frequency of the Vehicle Body Types (Top 5 vehicle body types)\n",
    "barPlotOnColumns('Vehicle Body Type', 'count', vehicleBodyTypeDf.toPandas().head(10), 'Vehicle Body Type', (15,7))"
   ]
  },
  {
   "cell_type": "markdown",
   "metadata": {},
   "source": [
    "### Finding top 5 'vehicle make' which get the highest parking tickets"
   ]
  },
  {
   "cell_type": "code",
   "execution_count": 28,
   "metadata": {},
   "outputs": [
    {
     "data": {
      "text/plain": [
       "3179"
      ]
     },
     "execution_count": 28,
     "metadata": {},
     "output_type": "execute_result"
    }
   ],
   "source": [
    "# Let's check the number of Vehicle make in our dataset\n",
    "data.select(\"Vehicle Make\").distinct().count()"
   ]
  },
  {
   "cell_type": "code",
   "execution_count": 29,
   "metadata": {},
   "outputs": [
    {
     "name": "stdout",
     "output_type": "stream",
     "text": [
      "+------------+------+\n",
      "|Vehicle Make| count|\n",
      "+------------+------+\n",
      "|        FORD|636844|\n",
      "|       TOYOT|605291|\n",
      "|       HONDA|538884|\n",
      "|       NISSA|462017|\n",
      "|       CHEVR|356032|\n",
      "|       FRUEH|230787|\n",
      "|       ME/BE|197568|\n",
      "|       DODGE|187729|\n",
      "|         BMW|186700|\n",
      "|        JEEP|175815|\n",
      "+------------+------+\n",
      "only showing top 10 rows\n",
      "\n"
     ]
    }
   ],
   "source": [
    "# Finding out the number of issued tickets against each of the 'Vehicle make'\n",
    "vehicleMakeDf = data.groupBy('Vehicle Make').count().sort('count', ascending = False)\n",
    "vehicleMakeDf.show(10)"
   ]
  },
  {
   "cell_type": "code",
   "execution_count": 30,
   "metadata": {},
   "outputs": [
    {
     "data": {
      "image/png": "[encoded data removed]",
      "text/plain": [
       "<Figure size 1080x504 with 1 Axes>"
      ]
     },
     "metadata": {},
     "output_type": "display_data"
    }
   ],
   "source": [
    "# Plotting the top 15 Vehicle makes with highest ticket count in descending order\n",
    "barPlotOnColumns('Vehicle Make', 'count', vehicleMakeDf.toPandas().head(15), 'Vehicle Make', (15,7))"
   ]
  },
  {
   "cell_type": "markdown",
   "metadata": {},
   "source": [
    "### Finding top 'Violation Precinct(s)' "
   ]
  },
  {
   "cell_type": "code",
   "execution_count": 31,
   "metadata": {},
   "outputs": [
    {
     "name": "stdout",
     "output_type": "stream",
     "text": [
      "+------------------+------+\n",
      "|Violation Precinct| count|\n",
      "+------------------+------+\n",
      "|                 0|925596|\n",
      "|                19|274445|\n",
      "|                14|203553|\n",
      "|                 1|174702|\n",
      "|                18|169131|\n",
      "|               114|147444|\n",
      "|                13|125113|\n",
      "|               109|104008|\n",
      "|                17|103255|\n",
      "|                70| 96552|\n",
      "+------------------+------+\n",
      "only showing top 10 rows\n",
      "\n"
     ]
    }
   ],
   "source": [
    "violationPrecinctDf = data.groupBy('Violation Precinct').count().sort('count', ascending = False)\n",
    "violationPrecinctDf.show(10)"
   ]
  },
  {
   "cell_type": "code",
   "execution_count": 32,
   "metadata": {},
   "outputs": [
    {
     "data": {
      "image/png": "[encoded data removed]",
      "text/plain": [
       "<Figure size 1080x504 with 1 Axes>"
      ]
     },
     "metadata": {},
     "output_type": "display_data"
    }
   ],
   "source": [
    "# Plotting graph on 'Violation Precinct' vs 'Number of issued tickets'\n",
    "barPlotOnColumns('Violation Precinct','count',violationPrecinctDf.toPandas().head(50),'Violation Precinct', (15,7))"
   ]
  },
  {
   "cell_type": "markdown",
   "metadata": {},
   "source": [
    "### Finding top Issuer Precincts"
   ]
  },
  {
   "cell_type": "code",
   "execution_count": 33,
   "metadata": {},
   "outputs": [
    {
     "name": "stdout",
     "output_type": "stream",
     "text": [
      "+---------------+-------+\n",
      "|Issuer Precinct|  count|\n",
      "+---------------+-------+\n",
      "|              0|1078406|\n",
      "|             19| 266961|\n",
      "|             14| 200495|\n",
      "|              1| 168740|\n",
      "|             18| 162994|\n",
      "|            114| 144054|\n",
      "|             13| 122490|\n",
      "|            109| 105109|\n",
      "|             17| 100641|\n",
      "|             70|  92298|\n",
      "+---------------+-------+\n",
      "only showing top 10 rows\n",
      "\n"
     ]
    }
   ],
   "source": [
    "issuerPrecinctDf = data.groupBy('Issuer Precinct').count().sort('count', ascending = False)\n",
    "issuerPrecinctDf.show(10)"
   ]
  },
  {
   "cell_type": "code",
   "execution_count": 34,
   "metadata": {},
   "outputs": [
    {
     "data": {
      "image/png": "[encoded data removed]",
      "text/plain": [
       "<Figure size 1080x504 with 1 Axes>"
      ]
     },
     "metadata": {},
     "output_type": "display_data"
    }
   ],
   "source": [
    "# Plotting the 'Issuer Precint' vs 'Count of tickets agains each Precinct'\n",
    "barPlotOnColumns('Issuer Precinct', 'count', issuerPrecinctDf.toPandas().head(40), 'Issuer Precinct', (15,7))"
   ]
  },
  {
   "cell_type": "markdown",
   "metadata": {},
   "source": [
    "#### It seems that 0 are the erroneous rows, let's find the top 5 violation precincts & top 5 issuer precincts again by removing the rows with 0 as the precinct"
   ]
  },
  {
   "cell_type": "markdown",
   "metadata": {},
   "source": [
    "### Finding top 5 Violation precincts by removing precinct 0"
   ]
  },
  {
   "cell_type": "code",
   "execution_count": 35,
   "metadata": {},
   "outputs": [
    {
     "name": "stdout",
     "output_type": "stream",
     "text": [
      "+------------------+------+\n",
      "|Violation Precinct| count|\n",
      "+------------------+------+\n",
      "|                19|274445|\n",
      "|                14|203553|\n",
      "|                 1|174702|\n",
      "|                18|169131|\n",
      "|               114|147444|\n",
      "+------------------+------+\n",
      "only showing top 5 rows\n",
      "\n"
     ]
    }
   ],
   "source": [
    "violationPrecinctDf = data.filter(col(\"Violation Precinct\") != \"0\" ).groupBy('Violation Precinct').count().sort('count', ascending = False)\n",
    "violationPrecinctDf.show(5)"
   ]
  },
  {
   "cell_type": "code",
   "execution_count": 36,
   "metadata": {},
   "outputs": [
    {
     "data": {
      "image/png": "[encoded data removed]",
      "text/plain": [
       "<Figure size 1080x504 with 1 Axes>"
      ]
     },
     "metadata": {},
     "output_type": "display_data"
    }
   ],
   "source": [
    "# Plotting the 'Violation Precint' vs 'Count of tickets agains each Precinct'\n",
    "barPlotOnColumns('Violation Precinct','count',violationPrecinctDf.toPandas().head(40),'Violation Precinct', (15,7))"
   ]
  },
  {
   "cell_type": "markdown",
   "metadata": {},
   "source": [
    "#### As seen above, the highest number of parking violations occur in Precinct 19 with 70000 more tickets than the precinct with second highest number of tickets. Rest of the ranking can be seen in the decreasing order as 19, 14, 1, 18, 114."
   ]
  },
  {
   "cell_type": "markdown",
   "metadata": {},
   "source": [
    "### Finding top 5 Issuer precincts by remvoing precinct 0"
   ]
  },
  {
   "cell_type": "code",
   "execution_count": 37,
   "metadata": {},
   "outputs": [
    {
     "name": "stdout",
     "output_type": "stream",
     "text": [
      "+---------------+------+\n",
      "|Issuer Precinct| count|\n",
      "+---------------+------+\n",
      "|             19|266961|\n",
      "|             14|200495|\n",
      "|              1|168740|\n",
      "|             18|162994|\n",
      "|            114|144054|\n",
      "+---------------+------+\n",
      "only showing top 5 rows\n",
      "\n"
     ]
    }
   ],
   "source": [
    "issuerPrecinctDf = data.filter(col(\"Issuer Precinct\") != 0).groupBy('Issuer Precinct').count().sort('count', ascending = False)\n",
    "issuerPrecinctDf.show(5)"
   ]
  },
  {
   "cell_type": "code",
   "execution_count": 38,
   "metadata": {},
   "outputs": [
    {
     "data": {
      "image/png": "[encoded data removed]",
      "text/plain": [
       "<Figure size 1080x504 with 1 Axes>"
      ]
     },
     "metadata": {},
     "output_type": "display_data"
    }
   ],
   "source": [
    "# Plotting the 'Issuer Precint' vs 'Count of tickets agains each Precinct'\n",
    "barPlotOnColumns('Issuer Precinct', 'count', issuerPrecinctDf.toPandas().head(40), 'Issuer Precinct', (15,7))"
   ]
  },
  {
   "cell_type": "markdown",
   "metadata": {},
   "source": [
    "#### The highest number of tickets belong to Issuer Precinct 19 with 66000 more tickets than the precinct with second highest number of tickets. Top 5 in the descending order are 19, 14, 1, 18, 114"
   ]
  },
  {
   "cell_type": "markdown",
   "metadata": {},
   "source": [
    "#### From the above graphs, we see that the Top 14 precincts i.e .Issuer/ Violation are having high number of tickets in the same order"
   ]
  },
  {
   "cell_type": "markdown",
   "metadata": {},
   "source": [
    "### Finding the violation code frequency for each of the 3 Precincts which have highest number of violations tickets"
   ]
  },
  {
   "cell_type": "code",
   "execution_count": 39,
   "metadata": {},
   "outputs": [
    {
     "name": "stdout",
     "output_type": "stream",
     "text": [
      "+--------------+-----+\n",
      "|Violation Code|count|\n",
      "+--------------+-----+\n",
      "|            46|50785|\n",
      "|            38|37483|\n",
      "|            37|36468|\n",
      "|            14|30376|\n",
      "|            21|29415|\n",
      "+--------------+-----+\n",
      "only showing top 5 rows\n",
      "\n"
     ]
    }
   ],
   "source": [
    "# Violation codes & frequency of tickets issued against each violation code for precinct 19\n",
    "violationCodePrecinct19 = data.filter((col(\"Violation Precinct\") == '19')).groupBy('Violation Code').count().sort('count', ascending = False)\n",
    "violationCodePrecinct19.show(5)"
   ]
  },
  {
   "cell_type": "markdown",
   "metadata": {},
   "source": [
    "<b>The Violation Code 46 is having highest number of count of tickets i.e. approximately 13,000 higher than the violation code with second highest number of tickets."
   ]
  },
  {
   "cell_type": "code",
   "execution_count": 40,
   "metadata": {},
   "outputs": [
    {
     "name": "stdout",
     "output_type": "stream",
     "text": [
      "+--------------+-----+\n",
      "|Violation Code|count|\n",
      "+--------------+-----+\n",
      "|            14|45885|\n",
      "|            69|30465|\n",
      "|            31|22649|\n",
      "|            47|18691|\n",
      "|            42|10027|\n",
      "+--------------+-----+\n",
      "only showing top 5 rows\n",
      "\n"
     ]
    }
   ],
   "source": [
    "# Violation codes & frequency of tickets issued against each violation code for precinct 14\n",
    "violationCodePrecinct14 = data.filter(col(\"Violation Precinct\") == '14').groupBy('Violation Code').count().sort('count', ascending = False)\n",
    "violationCodePrecinct14.show(5)"
   ]
  },
  {
   "cell_type": "markdown",
   "metadata": {},
   "source": [
    "<b> The Violation Code 14 is having highest number of count of tickets i.e. approximately 15,000 higher than the violation code with second highest number of tickets."
   ]
  },
  {
   "cell_type": "code",
   "execution_count": 41,
   "metadata": {},
   "outputs": [
    {
     "name": "stdout",
     "output_type": "stream",
     "text": [
      "+--------------+-----+\n",
      "|Violation Code|count|\n",
      "+--------------+-----+\n",
      "|            14|40226|\n",
      "|            16|19278|\n",
      "|            20|15743|\n",
      "|            46|13534|\n",
      "|            38| 8588|\n",
      "+--------------+-----+\n",
      "only showing top 5 rows\n",
      "\n"
     ]
    }
   ],
   "source": [
    "# Violation codes & frequency of tickets issued against each violation code for precinct 1\n",
    "violationCodePrecinct1 = data.filter(col(\"Violation Precinct\") == '1').groupBy('Violation Code').count().sort('count', ascending = False)\n",
    "violationCodePrecinct1.show(5)"
   ]
  },
  {
   "cell_type": "markdown",
   "metadata": {},
   "source": [
    "<b> The Violation Code 14 is having highest number of count of tickets i.e. approximately 21,000 higher than the violation code with second highest number of tickets."
   ]
  },
  {
   "cell_type": "markdown",
   "metadata": {},
   "source": [
    "<b> The Violation code 14 is common if we consider the top 5 violation code among the top 3 precincts"
   ]
  },
  {
   "cell_type": "markdown",
   "metadata": {},
   "source": [
    "### Let's do some analysis on the timeframe. But before that we need to convert the time into the require format"
   ]
  },
  {
   "cell_type": "code",
   "execution_count": 42,
   "metadata": {},
   "outputs": [
    {
     "name": "stdout",
     "output_type": "stream",
     "text": [
      "+--------------+--------+------------------+----------+--------------+-----------------+------------+------------------+---------------+--------------+\n",
      "|Summons Number|Plate ID|Registration State|Issue Date|Violation Code|Vehicle Body Type|Vehicle Make|Violation Precinct|Issuer Precinct|Violation Time|\n",
      "+--------------+--------+------------------+----------+--------------+-----------------+------------+------------------+---------------+--------------+\n",
      "|    8478629828| 66623ME|                NY|2017-06-14|            47|             REFG|       MITSU|                14|             14|         1120A|\n",
      "|    5096917368| FZD8593|                NY|2017-06-13|             7|             SUBN|       ME/BE|                 0|              0|         0852P|\n",
      "+--------------+--------+------------------+----------+--------------+-----------------+------------+------------------+---------------+--------------+\n",
      "only showing top 2 rows\n",
      "\n"
     ]
    }
   ],
   "source": [
    "data.show(2)"
   ]
  },
  {
   "cell_type": "code",
   "execution_count": 43,
   "metadata": {},
   "outputs": [
    {
     "name": "stdout",
     "output_type": "stream",
     "text": [
      "+--------------+----------------------+-------------------+------------------------+\n",
      "|Violation Time|Violation Time (AM/PM)|violation_timestamp|violation_time_rectified|\n",
      "+--------------+----------------------+-------------------+------------------------+\n",
      "|         1120A|                1120AM|1970-01-01 11:20:00|                   11:20|\n",
      "|         0852P|                0852PM|1970-01-01 20:52:00|                   20:52|\n",
      "|         1215A|                1215AM|1970-01-01 00:15:00|                   00:15|\n",
      "|         0525A|                0525AM|1970-01-01 05:25:00|                   05:25|\n",
      "|         0256P|                0256PM|1970-01-01 14:56:00|                   14:56|\n",
      "|         1232A|                1232AM|1970-01-01 00:32:00|                   00:32|\n",
      "|         1034A|                1034AM|1970-01-01 10:34:00|                   10:34|\n",
      "|         1021A|                1021AM|1970-01-01 10:21:00|                   10:21|\n",
      "|         0721A|                0721AM|1970-01-01 07:21:00|                   07:21|\n",
      "|         0940A|                0940AM|1970-01-01 09:40:00|                   09:40|\n",
      "|         1223P|                1223PM|1970-01-01 12:23:00|                   12:23|\n",
      "|         1028A|                1028AM|1970-01-01 10:28:00|                   10:28|\n",
      "|         0148A|                0148AM|1970-01-01 01:48:00|                   01:48|\n",
      "|         1206P|                1206PM|1970-01-01 12:06:00|                   12:06|\n",
      "|         0141P|                0141PM|1970-01-01 13:41:00|                   13:41|\n",
      "|         0822A|                0822AM|1970-01-01 08:22:00|                   08:22|\n",
      "|         0820A|                0820AM|1970-01-01 08:20:00|                   08:20|\n",
      "|         1043A|                1043AM|1970-01-01 10:43:00|                   10:43|\n",
      "|         0204P|                0204PM|1970-01-01 14:04:00|                   14:04|\n",
      "|         0853A|                0853AM|1970-01-01 08:53:00|                   08:53|\n",
      "+--------------+----------------------+-------------------+------------------------+\n",
      "only showing top 20 rows\n",
      "\n"
     ]
    }
   ],
   "source": [
    "# Let's convert the violation time in the required format as HH:mm\n",
    "data = data.withColumn(\"Violation Time\", when(col(\"Violation Time\").startswith(\"00\"), concat(lit(\"12\"),substring(\"Violation Time\",3,3))).otherwise(col(\"Violation Time\")))\\\n",
    ".withColumn(\"Violation Time (AM/PM)\",concat(col(\"Violation Time\"), lit(\"M\")))\\\n",
    ".withColumn('violation_timestamp', to_timestamp('Violation Time (AM/PM)','hhmma'))\\\n",
    ".withColumn(\"violation_time_rectified\",date_format(col('violation_timestamp'), format='HH:mm')).cache()\n",
    "\n",
    "data.select('Violation Time', 'Violation Time (AM/PM)', 'violation_timestamp', 'violation_time_rectified').show(20)"
   ]
  },
  {
   "cell_type": "code",
   "execution_count": 45,
   "metadata": {},
   "outputs": [
    {
     "name": "stdout",
     "output_type": "stream",
     "text": [
      "+------------------------+--------------+\n",
      "|violation_time_rectified|violation_hour|\n",
      "+------------------------+--------------+\n",
      "|                   11:20|            11|\n",
      "|                   20:52|            20|\n",
      "|                   00:15|             0|\n",
      "|                   05:25|             5|\n",
      "|                   14:56|            14|\n",
      "|                   00:32|             0|\n",
      "|                   10:34|            10|\n",
      "|                   10:21|            10|\n",
      "|                   07:21|             7|\n",
      "|                   09:40|             9|\n",
      "+------------------------+--------------+\n",
      "only showing top 10 rows\n",
      "\n"
     ]
    }
   ],
   "source": [
    "#Let's create another column i.e. violation_hour\n",
    "data = data.withColumn('violation_hour',hour(\"violation_time_rectified\"))\n",
    "data.select(\"violation_time_rectified\", \"violation_hour\").show(10)"
   ]
  },
  {
   "cell_type": "code",
   "execution_count": 46,
   "metadata": {},
   "outputs": [
    {
     "name": "stdout",
     "output_type": "stream",
     "text": [
      "+--------------+\n",
      "|violation_hour|\n",
      "+--------------+\n",
      "|            12|\n",
      "|            22|\n",
      "|          null|\n",
      "|             1|\n",
      "|            13|\n",
      "|            16|\n",
      "|             6|\n",
      "|             3|\n",
      "|            20|\n",
      "|             5|\n",
      "|            19|\n",
      "|            15|\n",
      "|             9|\n",
      "|            17|\n",
      "|             4|\n",
      "|             8|\n",
      "|            23|\n",
      "|             7|\n",
      "|            10|\n",
      "|            21|\n",
      "|            11|\n",
      "|            14|\n",
      "|             2|\n",
      "|             0|\n",
      "|            18|\n",
      "+--------------+\n",
      "\n"
     ]
    }
   ],
   "source": [
    "# Let's check the unique values in 'violation_hour'\n",
    "data.select('violation_hour').distinct().show(30)"
   ]
  },
  {
   "cell_type": "markdown",
   "metadata": {},
   "source": [
    "As we see above, there are null values as well in the generated column 'violation_hour'"
   ]
  },
  {
   "cell_type": "code",
   "execution_count": 47,
   "metadata": {},
   "outputs": [
    {
     "data": {
      "text/plain": [
       "108"
      ]
     },
     "execution_count": 47,
     "metadata": {},
     "output_type": "execute_result"
    }
   ],
   "source": [
    "#Let's count the number of null values in the column 'violation_time_rectified'\n",
    "data.filter(isnull(\"violation_time_rectified\")).count()"
   ]
  },
  {
   "cell_type": "code",
   "execution_count": 49,
   "metadata": {},
   "outputs": [
    {
     "name": "stdout",
     "output_type": "stream",
     "text": [
      "+--------------+----------------------+-------------------+------------------------+--------------+\n",
      "|Violation time|Violation Time (AM/PM)|violation_timestamp|violation_time_rectified|violation_hour|\n",
      "+--------------+----------------------+-------------------+------------------------+--------------+\n",
      "|           nan|                  nanM|               null|                    null|          null|\n",
      "|         6815P|                6815PM|               null|                    null|          null|\n",
      "|          0557|                 0557M|               null|                    null|          null|\n",
      "|         110+A|                110+AM|               null|                    null|          null|\n",
      "|           nan|                  nanM|               null|                    null|          null|\n",
      "|         093+A|                093+AM|               null|                    null|          null|\n",
      "|         8715P|                8715PM|               null|                    null|          null|\n",
      "|         5402P|                5402PM|               null|                    null|          null|\n",
      "|          0855|                 0855M|               null|                    null|          null|\n",
      "|         075/P|                075/PM|               null|                    null|          null|\n",
      "|         09.5A|                09.5AM|               null|                    null|          null|\n",
      "|           nan|                  nanM|               null|                    null|          null|\n",
      "|         1305P|                1305PM|               null|                    null|          null|\n",
      "|         073/A|                073/AM|               null|                    null|          null|\n",
      "|           nan|                  nanM|               null|                    null|          null|\n",
      "|         7640P|                7640PM|               null|                    null|          null|\n",
      "|         2240P|                2240PM|               null|                    null|          null|\n",
      "|         09+1A|                09+1AM|               null|                    null|          null|\n",
      "|         10.3P|                10.3PM|               null|                    null|          null|\n",
      "|         8735P|                8735PM|               null|                    null|          null|\n",
      "+--------------+----------------------+-------------------+------------------------+--------------+\n",
      "only showing top 20 rows\n",
      "\n"
     ]
    }
   ],
   "source": [
    "#Let's check the reason for getting null values in the 'violation_time_recitified' column\n",
    "data.filter(isnull(\"violation_time_rectified\")).select(\"Violation time\",\"Violation Time (AM/PM)\",\"violation_timestamp\",\"violation_time_rectified\",\"violation_hour\").show()"
   ]
  },
  {
   "cell_type": "markdown",
   "metadata": {},
   "source": [
    "#### As we see above, there are incorrect values in the provided 'Violation time' column. Let's remove the null values from the dataframe"
   ]
  },
  {
   "cell_type": "code",
   "execution_count": 50,
   "metadata": {},
   "outputs": [
    {
     "data": {
      "text/plain": [
       "5431918"
      ]
     },
     "execution_count": 50,
     "metadata": {},
     "output_type": "execute_result"
    }
   ],
   "source": [
    "# Let's get the total number of rows in the dataset\n",
    "data.count()"
   ]
  },
  {
   "cell_type": "code",
   "execution_count": 51,
   "metadata": {},
   "outputs": [],
   "source": [
    "#Removing null values from column 'Violation time'\n",
    "data = data.filter(~isnull(\"violation_time_rectified\"))"
   ]
  },
  {
   "cell_type": "code",
   "execution_count": 52,
   "metadata": {},
   "outputs": [
    {
     "data": {
      "text/plain": [
       "5431810"
      ]
     },
     "execution_count": 52,
     "metadata": {},
     "output_type": "execute_result"
    }
   ],
   "source": [
    "data.count()"
   ]
  },
  {
   "cell_type": "markdown",
   "metadata": {},
   "source": [
    "##### Therefore, now we have removed the 108 rows with incorrect 'violation time'"
   ]
  },
  {
   "cell_type": "markdown",
   "metadata": {},
   "source": [
    "#### Therefore, now we have the correct hours across the days, let's analyze parking violations based upon hours"
   ]
  },
  {
   "cell_type": "code",
   "execution_count": 53,
   "metadata": {},
   "outputs": [
    {
     "name": "stdout",
     "output_type": "stream",
     "text": [
      "+--------------+------+\n",
      "|violation_hour| count|\n",
      "+--------------+------+\n",
      "|             9|595625|\n",
      "|            11|574630|\n",
      "|            13|549287|\n",
      "|            12|510134|\n",
      "|             8|503843|\n",
      "|            10|489456|\n",
      "|            14|466068|\n",
      "|            15|314468|\n",
      "|            16|295983|\n",
      "|             7|270626|\n",
      "|            17|211173|\n",
      "|             6|121550|\n",
      "|            18|104283|\n",
      "|            21| 55321|\n",
      "|            20| 49221|\n",
      "|             1| 46068|\n",
      "|             0| 45698|\n",
      "|             5| 43154|\n",
      "|            22| 42536|\n",
      "|             2| 40312|\n",
      "|             3| 32453|\n",
      "|            23| 29277|\n",
      "|            19| 26099|\n",
      "|             4| 14545|\n",
      "+--------------+------+\n",
      "\n"
     ]
    }
   ],
   "source": [
    "#Getting count of tickets corresponding to each hour\n",
    "violationHourlyData = data.groupBy('violation_hour').count().sort('count',ascending = False)\n",
    "violationHourlyData.show(30)"
   ]
  },
  {
   "cell_type": "code",
   "execution_count": 54,
   "metadata": {},
   "outputs": [
    {
     "data": {
      "image/png": "[encoded data removed]",
      "text/plain": [
       "<Figure size 1080x504 with 1 Axes>"
      ]
     },
     "metadata": {},
     "output_type": "display_data"
    }
   ],
   "source": [
    "# Plot of count of tickets vs violation_hour\n",
    "barPlotOnColumns('violation_hour','count',violationHourlyData.toPandas(),'violation_hour',(15,7))"
   ]
  },
  {
   "cell_type": "markdown",
   "metadata": {},
   "source": [
    "#### As we observe from the above graph, that the top violation hours are from 8:00 AM to 2:00PM with the count of tickets being highest at 9:00AM"
   ]
  },
  {
   "cell_type": "markdown",
   "metadata": {},
   "source": [
    "### Let's create categories out of the violation hours"
   ]
  },
  {
   "cell_type": "markdown",
   "metadata": {},
   "source": [
    "<b> Hours will be created based on the logic that:\n",
    "- Afternoon -> 13 to 16\n",
    "- Evening -> 17 to 20\n",
    "- Night -> 21 to 24 (0 here)\n",
    "- Late Night -> 1 to 4\n",
    "- Early Morning -> 5 to 8\n",
    "- Morning -> 9 to 12\n",
    "Where all the hours i.e. 13, 16, 21, 24, etc. are in 24 hour time format"
   ]
  },
  {
   "cell_type": "code",
   "execution_count": 55,
   "metadata": {},
   "outputs": [],
   "source": [
    "def categoriseHoursIntoCategories(hour):\n",
    "    if((hour>12) & (hour<=16)):\n",
    "        return \"Afternoon\"\n",
    "    elif((hour>16) & (hour<=20)):\n",
    "        return \"Evening\"\n",
    "    elif((hour>20) & (hour<=23) | (hour==0)):\n",
    "        return \"Night\"\n",
    "    elif((hour>0) & (hour<=4)):\n",
    "        return \"Late Night\"\n",
    "    elif((hour>4) & (hour<=8)):\n",
    "        return \"Early Morning\"\n",
    "    elif((hour>8) & (hour<=12)):\n",
    "        return \"Morning\"\n",
    "\n",
    "categoriseHourUdf = udf(categoriseHoursIntoCategories, StringType())"
   ]
  },
  {
   "cell_type": "code",
   "execution_count": 56,
   "metadata": {
    "scrolled": false
   },
   "outputs": [
    {
     "name": "stdout",
     "output_type": "stream",
     "text": [
      "Night\n",
      "Late Night\n",
      "Late Night\n",
      "Late Night\n",
      "Late Night\n",
      "Early Morning\n",
      "Early Morning\n",
      "Early Morning\n",
      "Early Morning\n",
      "Morning\n",
      "Morning\n",
      "Morning\n",
      "Morning\n",
      "Afternoon\n",
      "Afternoon\n",
      "Afternoon\n",
      "Afternoon\n",
      "Evening\n",
      "Evening\n",
      "Evening\n",
      "Evening\n",
      "Night\n",
      "Night\n",
      "Night\n"
     ]
    }
   ],
   "source": [
    "#Testing if the function is categorizing correctly\n",
    "for i in range(0,24):\n",
    "    print(categoriseHoursIntoCategories(i))"
   ]
  },
  {
   "cell_type": "code",
   "execution_count": 57,
   "metadata": {},
   "outputs": [
    {
     "name": "stdout",
     "output_type": "stream",
     "text": [
      "+--------------+-----------------------+\n",
      "|violation_hour|violation_hour_category|\n",
      "+--------------+-----------------------+\n",
      "|            11|                Morning|\n",
      "|            20|                Evening|\n",
      "|             0|                  Night|\n",
      "|             5|          Early Morning|\n",
      "|            14|              Afternoon|\n",
      "|             0|                  Night|\n",
      "|            10|                Morning|\n",
      "|            10|                Morning|\n",
      "|             7|          Early Morning|\n",
      "|             9|                Morning|\n",
      "+--------------+-----------------------+\n",
      "only showing top 10 rows\n",
      "\n"
     ]
    }
   ],
   "source": [
    "# Creating the column violation_hour_category using the UDF we created earlier\n",
    "data = data.withColumn(\"violation_hour_category\",categoriseHourUdf(col(\"violation_hour\")))\n",
    "data.cache()\n",
    "data.select(\"violation_hour\", \"violation_hour_category\").show(10)"
   ]
  },
  {
   "cell_type": "code",
   "execution_count": 58,
   "metadata": {},
   "outputs": [
    {
     "name": "stdout",
     "output_type": "stream",
     "text": [
      "+-----------------------+-------+\n",
      "|violation_hour_category|  count|\n",
      "+-----------------------+-------+\n",
      "|                Morning|2169845|\n",
      "|              Afternoon|1625806|\n",
      "|          Early Morning| 939173|\n",
      "|                Evening| 390776|\n",
      "|                  Night| 172832|\n",
      "|             Late Night| 133378|\n",
      "+-----------------------+-------+\n",
      "\n"
     ]
    }
   ],
   "source": [
    "# Let's analyze the tickets corresponding to 'violatin_hour_category'\n",
    "violationHourCategoryDf = data.select(\"violation_hour_category\").groupBy('violation_hour_category').count().sort('count', ascending = False)\n",
    "violationHourCategoryDf.show()"
   ]
  },
  {
   "cell_type": "code",
   "execution_count": 59,
   "metadata": {},
   "outputs": [
    {
     "data": {
      "image/png": "[encoded data removed]",
      "text/plain": [
       "<Figure size 1080x504 with 1 Axes>"
      ]
     },
     "metadata": {},
     "output_type": "display_data"
    }
   ],
   "source": [
    "#Let's create a plot for the count of tickets vs violation_hour_category\n",
    "barPlotOnColumns('violation_hour_category', 'count', violationHourCategoryDf.toPandas(), 'violation_hour_category', (15,7))"
   ]
  },
  {
   "cell_type": "markdown",
   "metadata": {},
   "source": [
    "##### As seen in the above graph, the highest number of tickets are issued in the morning then afternoon then early morning.<br> <br> The least number of tickets are issued during evening, night & late night categories"
   ]
  },
  {
   "cell_type": "markdown",
   "metadata": {},
   "source": [
    "### Let's find the three most commonly occuring violations for each of the hour based categories"
   ]
  },
  {
   "cell_type": "code",
   "execution_count": 60,
   "metadata": {},
   "outputs": [
    {
     "name": "stdout",
     "output_type": "stream",
     "text": [
      "+-----------------------+--------------+-----+\n",
      "|violation_hour_category|Violation Code|count|\n",
      "+-----------------------+--------------+-----+\n",
      "|             Late Night|            78|13321|\n",
      "|              Afternoon|            70|53300|\n",
      "|              Afternoon|            82| 5908|\n",
      "|             Late Night|            51| 1806|\n",
      "|              Afternoon|             0|   68|\n",
      "|              Afternoon|            50|13999|\n",
      "|              Afternoon|            69|31034|\n",
      "|              Afternoon|            19|47179|\n",
      "|                Evening|            12|   16|\n",
      "|                Evening|            84|  951|\n",
      "|          Early Morning|            79|  316|\n",
      "|                Evening|            35|   74|\n",
      "|              Afternoon|            94|   37|\n",
      "|          Early Morning|            72| 1025|\n",
      "|                Evening|            30|   97|\n",
      "|              Afternoon|            87|    1|\n",
      "|          Early Morning|            95|    7|\n",
      "|                Evening|            77|  474|\n",
      "|                Evening|            63|   37|\n",
      "|              Afternoon|            42|16473|\n",
      "+-----------------------+--------------+-----+\n",
      "only showing top 20 rows\n",
      "\n"
     ]
    }
   ],
   "source": [
    "mostCommonOccuringViolations = data.groupBy('violation_hour_category', 'Violation Code').count()\n",
    "mostCommonOccuringViolations.show()"
   ]
  },
  {
   "cell_type": "code",
   "execution_count": 61,
   "metadata": {},
   "outputs": [
    {
     "name": "stdout",
     "output_type": "stream",
     "text": [
      "+-----------------------+--------------+------+----+\n",
      "|violation_hour_category|Violation Code| count|rank|\n",
      "+-----------------------+--------------+------+----+\n",
      "|                Evening|            38| 61211|   1|\n",
      "|                Evening|             7| 45290|   2|\n",
      "|                Evening|            14| 40214|   3|\n",
      "|                Morning|            21|479606|   1|\n",
      "|                Morning|            36|388990|   2|\n",
      "|                Morning|            38|206769|   3|\n",
      "|          Early Morning|            21|247422|   1|\n",
      "|          Early Morning|            14|109762|   2|\n",
      "|          Early Morning|            36| 75948|   3|\n",
      "|              Afternoon|            38|234449|   1|\n",
      "|              Afternoon|            36|193003|   2|\n",
      "|              Afternoon|            37|166793|   3|\n",
      "|                  Night|            40| 23228|   1|\n",
      "|                  Night|             7| 22331|   2|\n",
      "|                  Night|            14| 20903|   3|\n",
      "|             Late Night|            21| 25479|   1|\n",
      "|             Late Night|            40| 23215|   2|\n",
      "|             Late Night|            78| 13321|   3|\n",
      "+-----------------------+--------------+------+----+\n",
      "\n"
     ]
    }
   ],
   "source": [
    "# Filtering data for top 3 violation codes among each of the 'violation hour category'\n",
    "w = Window.partitionBy('violation_hour_category').orderBy(col(\"count\").desc())\n",
    "top3AmongEachCategory = mostCommonOccuringViolations.withColumn('rank',dense_rank().over(w)).filter(col('rank')<4)\n",
    "top3AmongEachCategory.cache()\n",
    "top3AmongEachCategory.show()"
   ]
  },
  {
   "cell_type": "markdown",
   "metadata": {},
   "source": [
    "##### As we see above, the top 3 violation codes among each of the categories are as follows:\n",
    "- In Early Morning\n",
    "  - 21\n",
    "  - 14\n",
    "  - 36\n",
    "- In Morning\n",
    "  - 21\n",
    "  - 36\n",
    "  - 38\n",
    "- In Afternoon\n",
    "  - 38\n",
    "  - 36\n",
    "  - 37\n",
    "- In Evening\n",
    "  - 38\n",
    "  - 7\n",
    "  - 14\n",
    "- In Night\n",
    "  - 40\n",
    "  - 7\n",
    "  - 14\n",
    "- Late Night\n",
    "  - 21\n",
    "  - 40\n",
    "  - 78"
   ]
  },
  {
   "cell_type": "markdown",
   "metadata": {},
   "source": [
    "#### As we know that earlier we have found that the top 5 violation codes are 21, 36, 38, 14, 20. <br> <br> Now, we can see that the top three i.e. 21, 36, & 38 occur in the Morning Time"
   ]
  },
  {
   "cell_type": "markdown",
   "metadata": {},
   "source": [
    "### For the three most commonly occurring violation codes, find the most common time of the day"
   ]
  },
  {
   "cell_type": "code",
   "execution_count": 62,
   "metadata": {},
   "outputs": [
    {
     "name": "stdout",
     "output_type": "stream",
     "text": [
      "+-----------------------+-------+\n",
      "|violation_hour_category|  count|\n",
      "+-----------------------+-------+\n",
      "|                Morning|1075365|\n",
      "|              Afternoon| 429891|\n",
      "|          Early Morning| 350345|\n",
      "|                Evening|  66222|\n",
      "|             Late Night|  25777|\n",
      "|                  Night|  25293|\n",
      "+-----------------------+-------+\n",
      "\n"
     ]
    }
   ],
   "source": [
    "# As we know that 3 most commonly occuring violation codes as calculated previously are 21, 36, 38\n",
    "data.filter((col(\"Violation Code\") == 21) | (col(\"Violation Code\") == 36) | (col(\"Violation Code\") == 38)).groupBy('violation_hour_category').count().sort(\"count\", ascending = False).show()"
   ]
  },
  {
   "cell_type": "markdown",
   "metadata": {},
   "source": [
    "#### As we see above, the top 3 occuring violation codes 21, 36, 38 has been mostly violated in the Morning time followed by Afternoon & the least in the Night time"
   ]
  },
  {
   "cell_type": "markdown",
   "metadata": {},
   "source": [
    "### Let's create season column our of Issuer Date"
   ]
  },
  {
   "cell_type": "code",
   "execution_count": 63,
   "metadata": {},
   "outputs": [
    {
     "name": "stdout",
     "output_type": "stream",
     "text": [
      "+----------+\n",
      "|Issue Date|\n",
      "+----------+\n",
      "|2017-06-14|\n",
      "|2017-06-13|\n",
      "+----------+\n",
      "only showing top 2 rows\n",
      "\n"
     ]
    }
   ],
   "source": [
    "# Checking the issue date column\n",
    "data.select(\"Issue Date\").show(2)"
   ]
  },
  {
   "cell_type": "code",
   "execution_count": 64,
   "metadata": {},
   "outputs": [
    {
     "name": "stdout",
     "output_type": "stream",
     "text": [
      "+----------+-----------+\n",
      "|Issue Date|issue_month|\n",
      "+----------+-----------+\n",
      "|2017-06-14|          6|\n",
      "|2017-06-13|          6|\n",
      "|2017-01-11|          1|\n",
      "|2017-02-04|          2|\n",
      "|2017-01-26|          1|\n",
      "|2017-04-30|          4|\n",
      "|2017-02-03|          2|\n",
      "|2017-05-27|          5|\n",
      "|2017-05-31|          5|\n",
      "|2017-05-26|          5|\n",
      "|2017-05-19|          5|\n",
      "|2017-06-09|          6|\n",
      "|2017-01-20|          1|\n",
      "|2017-04-13|          4|\n",
      "|2017-01-05|          1|\n",
      "|2017-02-18|          2|\n",
      "|2017-06-14|          6|\n",
      "|2017-01-29|          1|\n",
      "|2017-01-25|          1|\n",
      "|2017-06-12|          6|\n",
      "+----------+-----------+\n",
      "only showing top 20 rows\n",
      "\n"
     ]
    }
   ],
   "source": [
    "#Let's create another column i.e issue_month\n",
    "data = data.withColumn(\"issue_month\", month('Issue Date'))\n",
    "data.cache()\n",
    "data.select(\"Issue Date\", \"issue_month\").show()"
   ]
  },
  {
   "cell_type": "code",
   "execution_count": 65,
   "metadata": {},
   "outputs": [
    {
     "name": "stdout",
     "output_type": "stream",
     "text": [
      "+-----------+\n",
      "|issue_month|\n",
      "+-----------+\n",
      "|          1|\n",
      "|          2|\n",
      "|          3|\n",
      "|          4|\n",
      "|          5|\n",
      "|          6|\n",
      "|          7|\n",
      "|          8|\n",
      "|          9|\n",
      "|         10|\n",
      "|         11|\n",
      "|         12|\n",
      "+-----------+\n",
      "\n"
     ]
    }
   ],
   "source": [
    "#Let's check if any null values exist in the new column 'issue_month'\n",
    "data.select(\"issue_month\").distinct().sort('issue_month').show()"
   ]
  },
  {
   "cell_type": "markdown",
   "metadata": {},
   "source": [
    "Therefore, as wee se above, there are no erroneous / null values in the new column 'issue_month'"
   ]
  },
  {
   "cell_type": "markdown",
   "metadata": {},
   "source": [
    "### Let's find out the frequency of tickets across each of the months"
   ]
  },
  {
   "cell_type": "code",
   "execution_count": 66,
   "metadata": {},
   "outputs": [
    {
     "name": "stdout",
     "output_type": "stream",
     "text": [
      "+-----------+-------+\n",
      "|issue_month|  count|\n",
      "+-----------+-------+\n",
      "|          5|1020219|\n",
      "|          3| 964715|\n",
      "|          4| 888386|\n",
      "|          1| 877344|\n",
      "|          6| 852170|\n",
      "|          2| 826960|\n",
      "|          7|    370|\n",
      "|          9|    367|\n",
      "|         12|    358|\n",
      "|         11|    338|\n",
      "|          8|    309|\n",
      "|         10|    274|\n",
      "+-----------+-------+\n",
      "\n"
     ]
    }
   ],
   "source": [
    "ticketsFrequencyAcrossMonths = data.groupBy('issue_month').count().sort(\"count\", ascending = False)\n",
    "ticketsFrequencyAcrossMonths.show()"
   ]
  },
  {
   "cell_type": "markdown",
   "metadata": {},
   "source": [
    "#### Therefore, the highest number of tickets are raised in the month 5 i.e. May whereas the least are in the month 10th i.e. October"
   ]
  },
  {
   "cell_type": "code",
   "execution_count": 67,
   "metadata": {},
   "outputs": [
    {
     "data": {
      "image/png": "[encoded data removed]",
      "text/plain": [
       "<Figure size 1080x504 with 1 Axes>"
      ]
     },
     "metadata": {},
     "output_type": "display_data"
    }
   ],
   "source": [
    "barPlotOnColumns('issue_month', 'count', ticketsFrequencyAcrossMonths.sort(\"issue_month\").toPandas(), 'issue_month', (15,7))"
   ]
  },
  {
   "cell_type": "markdown",
   "metadata": {},
   "source": [
    "#### As seen from the above graph, the number of tickets for the months from 7 to 12 are almost 0 as compared to the number of tickets issued for the months from 1 to 6."
   ]
  },
  {
   "cell_type": "markdown",
   "metadata": {},
   "source": [
    "### Let's create seasons out of these months based upon the information that\n",
    "- <b>Fall Season - September, October, November\n",
    "- Winter Season - December, January, February\n",
    "- Spring Season - March, April, May\n",
    "- Summer Season - June, July, August"
   ]
  },
  {
   "cell_type": "code",
   "execution_count": 69,
   "metadata": {},
   "outputs": [],
   "source": [
    "#Let's create a udf for the transformation\n",
    "def getSeasonFromMonth(month):\n",
    "    if((month == 12) | (month == 1 or month == 2)):\n",
    "        return \"Winter Season\"\n",
    "    elif((month>=3) and (month<=5)):\n",
    "        return \"Spring Season\"\n",
    "    elif((month>=6) and (month<=8)):\n",
    "        return \"Summer Season\"\n",
    "    else:\n",
    "        return \"Fall Season\"\n",
    "getSeasonFromMonthUdf = udf(getSeasonFromMonth)"
   ]
  },
  {
   "cell_type": "code",
   "execution_count": 70,
   "metadata": {},
   "outputs": [
    {
     "name": "stdout",
     "output_type": "stream",
     "text": [
      "Winter Season\n",
      "Winter Season\n",
      "Spring Season\n",
      "Spring Season\n",
      "Spring Season\n",
      "Summer Season\n",
      "Summer Season\n",
      "Summer Season\n",
      "Fall Season\n",
      "Fall Season\n",
      "Fall Season\n",
      "Winter Season\n"
     ]
    }
   ],
   "source": [
    "#checking if function is working correctly\n",
    "for i in range(1,13):\n",
    "    print(getSeasonFromMonth(i))"
   ]
  },
  {
   "cell_type": "code",
   "execution_count": 72,
   "metadata": {},
   "outputs": [
    {
     "name": "stdout",
     "output_type": "stream",
     "text": [
      "+----------+-----------+-------------+\n",
      "|Issue Date|issue_month| issue_season|\n",
      "+----------+-----------+-------------+\n",
      "|2017-06-14|          6|Summer Season|\n",
      "|2017-06-13|          6|Summer Season|\n",
      "|2017-01-11|          1|Winter Season|\n",
      "|2017-02-04|          2|Winter Season|\n",
      "|2017-01-26|          1|Winter Season|\n",
      "|2017-04-30|          4|Spring Season|\n",
      "|2017-02-03|          2|Winter Season|\n",
      "|2017-05-27|          5|Spring Season|\n",
      "|2017-05-31|          5|Spring Season|\n",
      "|2017-05-26|          5|Spring Season|\n",
      "|2017-05-19|          5|Spring Season|\n",
      "|2017-06-09|          6|Summer Season|\n",
      "|2017-01-20|          1|Winter Season|\n",
      "|2017-04-13|          4|Spring Season|\n",
      "|2017-01-05|          1|Winter Season|\n",
      "|2017-02-18|          2|Winter Season|\n",
      "|2017-06-14|          6|Summer Season|\n",
      "|2017-01-29|          1|Winter Season|\n",
      "|2017-01-25|          1|Winter Season|\n",
      "|2017-06-12|          6|Summer Season|\n",
      "+----------+-----------+-------------+\n",
      "only showing top 20 rows\n",
      "\n"
     ]
    }
   ],
   "source": [
    "#Creating a new column i.e. 'issue_season'\n",
    "data = data.withColumn(\"issue_season\",getSeasonFromMonthUdf(col('issue_month')))\n",
    "data.select(\"Issue Date\", \"issue_month\",\"issue_season\").show()"
   ]
  },
  {
   "cell_type": "markdown",
   "metadata": {},
   "source": [
    "### Let's find the frequencies of tickets for each season"
   ]
  },
  {
   "cell_type": "code",
   "execution_count": 73,
   "metadata": {},
   "outputs": [
    {
     "name": "stdout",
     "output_type": "stream",
     "text": [
      "+-------------+-------+\n",
      "| issue_season|  count|\n",
      "+-------------+-------+\n",
      "|Spring Season|2873320|\n",
      "|Winter Season|1704662|\n",
      "|Summer Season| 852849|\n",
      "|  Fall Season|    979|\n",
      "+-------------+-------+\n",
      "\n"
     ]
    }
   ],
   "source": [
    "frequenciesForEachSeason = data.groupBy(\"issue_season\").count().sort('count', ascending = False)\n",
    "frequenciesForEachSeason.show()"
   ]
  },
  {
   "cell_type": "markdown",
   "metadata": {},
   "source": [
    "#### Therefore, the most of the tickets are issued in the \"Spring Season\" followed by \"Winter Season\". The minimum number of tickets are issued in the \"Fall Season\""
   ]
  },
  {
   "cell_type": "markdown",
   "metadata": {},
   "source": [
    "#### Also, there is a vast difference between the \"Spring Season\" & the season with the second highest number of tickets i.e. \"Winter Season\". The difference is of more than 9.6 Lakhs tickets."
   ]
  },
  {
   "cell_type": "code",
   "execution_count": 74,
   "metadata": {},
   "outputs": [
    {
     "name": "stdout",
     "output_type": "stream",
     "text": [
      "+-------------+--------------+------+\n",
      "| issue_season|Violation Code| count|\n",
      "+-------------+--------------+------+\n",
      "|Winter Season|            49|   110|\n",
      "|  Fall Season|            85|     3|\n",
      "|Summer Season|            47| 10779|\n",
      "|Spring Season|            55|    37|\n",
      "|Summer Season|            60|   347|\n",
      "|Summer Season|            97|    12|\n",
      "|Spring Season|            87|     1|\n",
      "|Summer Season|            46| 42666|\n",
      "|Spring Season|            80|  1111|\n",
      "|Summer Season|            55|     4|\n",
      "|Spring Season|            40|147402|\n",
      "|Winter Season|            92|     7|\n",
      "|  Fall Season|            10|     3|\n",
      "|Summer Season|            68|  4251|\n",
      "|Winter Season|            76|     4|\n",
      "|Summer Season|            15|     1|\n",
      "|  Fall Season|            83|     2|\n",
      "|Spring Season|            48| 21682|\n",
      "|Winter Season|            32|     7|\n",
      "|Summer Season|             0|    34|\n",
      "+-------------+--------------+------+\n",
      "only showing top 20 rows\n",
      "\n"
     ]
    }
   ],
   "source": [
    "frequencyOnSeasonAndViolationCode = data.groupBy(\"issue_season\",\"Violation Code\").count()\n",
    "frequencyOnSeasonAndViolationCode.cache()\n",
    "frequencyOnSeasonAndViolationCode.show()"
   ]
  },
  {
   "cell_type": "code",
   "execution_count": 75,
   "metadata": {},
   "outputs": [
    {
     "name": "stdout",
     "output_type": "stream",
     "text": [
      "+-------------+--------------+------+----+\n",
      "| issue_season|Violation Code| count|rank|\n",
      "+-------------+--------------+------+----+\n",
      "|  Fall Season|            46|   231|   1|\n",
      "|  Fall Season|            21|   128|   2|\n",
      "|  Fall Season|            40|   116|   3|\n",
      "|Spring Season|            21|402399|   1|\n",
      "|Spring Season|            36|344834|   2|\n",
      "|Spring Season|            38|271167|   3|\n",
      "|Summer Season|            21|127344|   1|\n",
      "|Summer Season|            36| 96663|   2|\n",
      "|Summer Season|            38| 83518|   3|\n",
      "|Winter Season|            21|238179|   1|\n",
      "|Winter Season|            36|221268|   2|\n",
      "|Winter Season|            38|187385|   3|\n",
      "+-------------+--------------+------+----+\n",
      "\n"
     ]
    }
   ],
   "source": [
    "w = Window.partitionBy('issue_season').orderBy(col('count').desc())\n",
    "top3AmongEachSeason = frequencyOnSeasonAndViolationCode.withColumn('rank',dense_rank().over(w)).filter(col('rank')<4)\n",
    "top3AmongEachSeason.show()"
   ]
  },
  {
   "cell_type": "markdown",
   "metadata": {},
   "source": [
    "<b>As we see above, the top 3 violation codes among each season in the descending order of number of tickets issued agains each of the violatino code are as follows:\n",
    "- Fall Season -> 46, 21, 40\n",
    "- Spring Season -> 21, 36, 38\n",
    "- Summer Season -> 21, 36, 38\n",
    "- Winter Season -> 21, 36, 38\n"
   ]
  },
  {
   "cell_type": "markdown",
   "metadata": {},
   "source": [
    "### Let's calculate revenue for the police department"
   ]
  },
  {
   "cell_type": "code",
   "execution_count": 76,
   "metadata": {},
   "outputs": [
    {
     "name": "stdout",
     "output_type": "stream",
     "text": [
      "+--------------+------+\n",
      "|Violation Code| count|\n",
      "+--------------+------+\n",
      "|            21|768050|\n",
      "|            36|662765|\n",
      "|            38|542078|\n",
      "+--------------+------+\n",
      "\n"
     ]
    }
   ],
   "source": [
    "# Let's check frequency of top three violation codes\n",
    "topThreeViolationCodes = data.groupBy('Violation Code').count().sort('count', ascending = False).limit(3)\n",
    "topThreeViolationCodes.show()"
   ]
  },
  {
   "cell_type": "code",
   "execution_count": 77,
   "metadata": {},
   "outputs": [
    {
     "name": "stdout",
     "output_type": "stream",
     "text": [
      "+----------+\n",
      "|sum(count)|\n",
      "+----------+\n",
      "|   1972893|\n",
      "+----------+\n",
      "\n"
     ]
    }
   ],
   "source": [
    "# Let's calculate the total count of tickets generated against top three violation codes\n",
    "data.groupBy('Violation Code').count().sort('count', ascending = False).limit(3).groupBy().sum().show()"
   ]
  },
  {
   "cell_type": "markdown",
   "metadata": {},
   "source": [
    "<b> The information from the NYC Finance website for the top 3 violation codes is as follows:\n",
    "- 21 => Street Cleaning: No parking where parking is not allowed by sign, street marking or traffic control device => Dollar 65 and Dollar 45\n",
    "- 36 => Exceeding the posted speed limit in or near a designated school zone. => Dollar 50 and Dollar 50\n",
    "- 38 => Failing to show a receipt or tag in the windshield. Drivers get a 5-minute grace period past the expired time on parking meter receipts. => Dollar 65 and Dollar 35"
   ]
  },
  {
   "cell_type": "code",
   "execution_count": 78,
   "metadata": {},
   "outputs": [],
   "source": [
    "#Let's create a UDF to calculate the revenue\n",
    "def calculateRevenue(violationCode):\n",
    "    if(violationCode == '21'):\n",
    "        return ((65 + 45.0)/2)\n",
    "    elif(violationCode == '36'):\n",
    "        return ((50 + 50.0)/2)\n",
    "    elif(violationCode == '38'):\n",
    "        return ((65 + 35.0)/2)\n",
    "calculateRevenueUdf = udf(calculateRevenue)"
   ]
  },
  {
   "cell_type": "code",
   "execution_count": 79,
   "metadata": {},
   "outputs": [
    {
     "name": "stdout",
     "output_type": "stream",
     "text": [
      "+--------------+------+----------+\n",
      "|Violation Code| count|   revenue|\n",
      "+--------------+------+----------+\n",
      "|            21|768050|4.224275E7|\n",
      "|            36|662765|3.313825E7|\n",
      "|            38|542078| 2.71039E7|\n",
      "+--------------+------+----------+\n",
      "\n"
     ]
    }
   ],
   "source": [
    "# Let's add a new column i.e. revenue & calculate the revenue generated for top 3 violation codes\n",
    "topThreeViolationCodes.withColumn(\"revenue\",calculateRevenueUdf(col(\"Violation Code\")) * col(\"count\")).sort('revenue',ascending = False).show()"
   ]
  },
  {
   "cell_type": "markdown",
   "metadata": {},
   "source": [
    "### The violation code that has the highest total revenue is the violation code 21"
   ]
  },
  {
   "cell_type": "code",
   "execution_count": 80,
   "metadata": {},
   "outputs": [
    {
     "name": "stdout",
     "output_type": "stream",
     "text": [
      "+----------+------------+\n",
      "|sum(count)|sum(revenue)|\n",
      "+----------+------------+\n",
      "|   1972893|  1.024849E8|\n",
      "+----------+------------+\n",
      "\n"
     ]
    }
   ],
   "source": [
    "# Let's calculate the total amount collected for the top 3 most occuring violation codes\n",
    "topThreeViolationCodes.withColumn(\"revenue\",calculateRevenueUdf(col(\"Violation Code\")) * col(\"count\")).sort('revenue',ascending = False).groupBy().sum().show()"
   ]
  },
  {
   "cell_type": "code",
   "execution_count": 81,
   "metadata": {},
   "outputs": [
    {
     "data": {
      "text/plain": [
       "102484899.99999999"
      ]
     },
     "execution_count": 81,
     "metadata": {},
     "output_type": "execute_result"
    }
   ],
   "source": [
    "#Calculating total revenue in non-exponential format\n",
    "1.024849*(10**8)"
   ]
  },
  {
   "cell_type": "markdown",
   "metadata": {},
   "source": [
    "### Therefore, the total amount collected is $10,24,84,899.99\n"
   ]
  },
  {
   "cell_type": "code",
   "execution_count": 82,
   "metadata": {},
   "outputs": [
    {
     "data": {
      "text/plain": [
       "51.946506982385756"
      ]
     },
     "execution_count": 82,
     "metadata": {},
     "output_type": "execute_result"
    }
   ],
   "source": [
    "# Calculating revenue per ticket for the top 3 violation codes\n",
    "(1.024849*(10**8)) / 1972893"
   ]
  },
  {
   "cell_type": "markdown",
   "metadata": {},
   "source": [
    "### Therefore, the average revenue per ticket for the top 3 violation codes comes out to be $51.94"
   ]
  },
  {
   "cell_type": "markdown",
   "metadata": {},
   "source": [
    "### From the above revenue calculations, it seems that the revenue just for the top 3 tickets is really very high."
   ]
  },
  {
   "cell_type": "code",
   "execution_count": null,
   "metadata": {},
   "outputs": [],
   "source": []
  }
 ],
 "metadata": {
  "kernelspec": {
   "display_name": "PySpark",
   "language": "python",
   "name": "pyspark"
  },
  "language_info": {
   "codemirror_mode": {
    "name": "ipython",
    "version": 3
   },
   "file_extension": ".py",
   "mimetype": "text/x-python",
   "name": "python",
   "nbconvert_exporter": "python",
   "pygments_lexer": "ipython3",
   "version": "3.6.5"
  }
 },
 "nbformat": 4,
 "nbformat_minor": 2
}
